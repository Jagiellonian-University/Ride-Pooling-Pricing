{
 "cells": [
  {
   "cell_type": "markdown",
   "id": "5e3833cd-d715-464e-b83b-1dccb8957002",
   "metadata": {},
   "source": [
    "## ExMaas & MaaSSim - Pricing Model"
   ]
  },
  {
   "cell_type": "markdown",
   "id": "3a74d903-2f04-4aa8-b201-231ae627cb68",
   "metadata": {},
   "source": [
    "## Steps:\n",
    "    1. Load Nootdord: Network \n",
    "    2. Set Demand: 2 travellers and 1 Vehicles\n",
    "    3. Run ExMaas: Make sure there is a pooling  (inDataSlbts)\n",
    "    4. Run MaaSSim\n",
    "    5. Choice set for drivers  - use sblts.rides in prep_shared_rides and not sblts.schedule\n",
    "    6. Decision "
   ]
  },
  {
   "cell_type": "markdown",
   "id": "8a3d3c6c-3f17-4d81-b308-3db690b067c6",
   "metadata": {},
   "source": [
    "## Adding paths"
   ]
  },
  {
   "cell_type": "code",
   "execution_count": 61,
   "id": "532f0613-8aa7-4496-bfcd-5e9ac084ed8b",
   "metadata": {},
   "outputs": [
    {
     "name": "stdout",
     "output_type": "stream",
     "text": [
      "The autoreload extension is already loaded. To reload it, use:\n",
      "  %reload_ext autoreload\n"
     ]
    }
   ],
   "source": [
    "%load_ext autoreload\n",
    "%autoreload 2\n",
    "import os, sys # add MaaSSim to path (not needed if MaaSSim is already in path)\n",
    "module_path = os.path.abspath(os.path.join('../..'))\n",
    "if module_path not in sys.path:\n",
    "    sys.path.append(module_path)"
   ]
  },
  {
   "cell_type": "markdown",
   "id": "dfde3307-4b5a-4c02-9198-d36e6fa8b87f",
   "metadata": {},
   "source": [
    "## Initialize the MaaSSim"
   ]
  },
  {
   "cell_type": "code",
   "execution_count": 62,
   "id": "184263f0-9575-412f-b6f4-e624ec713274",
   "metadata": {},
   "outputs": [],
   "source": [
    "from MaaSSim.utils import get_config, load_G, prep_supply_and_demand, generate_demand, generate_vehicles, initialize_df  # simulator\n",
    "from MaaSSim.data_structures import structures as inData\n",
    "from MaaSSim.simulators import simulate\n",
    "from MaaSSim.visualizations import plot_veh\n",
    "import logging"
   ]
  },
  {
   "cell_type": "markdown",
   "id": "1c92f6fc-3218-43d4-8867-fa2b432b605f",
   "metadata": {},
   "source": [
    "## Initialize the ExMAS"
   ]
  },
  {
   "cell_type": "code",
   "execution_count": 63,
   "id": "d868bc0c-8797-45ad-a6cf-a91cf637ca83",
   "metadata": {},
   "outputs": [],
   "source": [
    "import pandas as pd\n",
    "import ExMAS"
   ]
  },
  {
   "cell_type": "markdown",
   "id": "4cf528cc-5870-4df8-882d-2e1adca1c9ff",
   "metadata": {},
   "source": [
    "## Load the Graph"
   ]
  },
  {
   "cell_type": "code",
   "execution_count": 64,
   "id": "b6cc9eab-1aa5-49e3-a0aa-69598ae61afb",
   "metadata": {},
   "outputs": [],
   "source": [
    "params = get_config('D:/Development/MaaSSim/data/config/Nootdorp.json')  # load configuration"
   ]
  },
  {
   "cell_type": "markdown",
   "id": "afeb6fa1-d411-40eb-9c77-5d0671cc38b9",
   "metadata": {},
   "source": [
    "## Set Demand"
   ]
  },
  {
   "cell_type": "code",
   "execution_count": 65,
   "id": "d37e06f4-94f9-422f-a0cd-0a6df7fab270",
   "metadata": {},
   "outputs": [],
   "source": [
    "params.times.pickup_patience = 3600 # 1 hour of simulation\n",
    "params.simTime = 4 # 1 hour of simulation\n",
    "params.nP = 10  # uqests (and passengers)\n",
    "params.nV = 2  # hicles"
   ]
  },
  {
   "cell_type": "code",
   "execution_count": 66,
   "id": "b3b10eaf-3d7c-4249-a47c-e335c88bc3ed",
   "metadata": {},
   "outputs": [],
   "source": [
    "params.t0 = pd.Timestamp.now()\n",
    "params.shareability.avg_speed = params.speeds.ride\n",
    "params.shareability.shared_discount = 0.3\n",
    "params.shareability.delay_value = 1\n",
    "params.shareability.WtS = 1.3\n",
    "params.shareability.price = 1.5 #eur/km\n",
    "params.shareability.VoT = 0.0035 #eur/s\n",
    "params.shareability.matching_obj = 'u_pax' #minimize VHT for vehicles\n",
    "params.shareability.pax_delay = 0\n",
    "params.shareability.horizon = 600\n",
    "params.shareability.max_degree = 4\n",
    "params.shareability.nP = params.nP\n",
    "params.shareability.share = 1\n",
    "params.shareability.without_matching = True"
   ]
  },
  {
   "cell_type": "code",
   "execution_count": 67,
   "id": "fdce257d-9c0a-460a-8bb7-e01fdd31368a",
   "metadata": {},
   "outputs": [],
   "source": [
    "inData = load_G(inData, params)  # load network graph "
   ]
  },
  {
   "cell_type": "code",
   "execution_count": 68,
   "id": "f67e547d-5bed-49cf-aeb7-63db6cc06c9d",
   "metadata": {},
   "outputs": [],
   "source": [
    "inData = generate_demand(inData, params, avg_speed = False)\n",
    "inData.vehicles = generate_vehicles(inData,params.nV)\n",
    "inData.vehicles.platform = inData.vehicles.apply(lambda x: 0, axis = 1)\n",
    "inData.passengers.platforms = inData.passengers.apply(lambda x: [0], axis = 1)\n",
    "inData.requests['platform'] = inData.requests.apply(lambda row: inData.passengers.loc[row.name].platforms[0], axis = 1) \n",
    "inData.platforms = initialize_df(inData.platforms)\n",
    "inData.platforms.loc[0]=[1,'Uber',30]\n",
    "params.shareability.share = 1\n",
    "params.shareability.without_matching = True"
   ]
  },
  {
   "cell_type": "markdown",
   "id": "1c874730-8f8a-4bd6-9f43-ff1ddc5154d4",
   "metadata": {},
   "source": [
    "## create shareability graph (ExMAS) "
   ]
  },
  {
   "cell_type": "code",
   "execution_count": 69,
   "id": "04aa3ac4-e419-4036-b853-933b27a6adc5",
   "metadata": {},
   "outputs": [
    {
     "name": "stdout",
     "output_type": "stream",
     "text": [
      "26-10-22 11:57:32-INFO-Initializing pairwise trip shareability between 10 and 10 trips.\n",
      "26-10-22 11:57:32-INFO-creating combinations\n",
      "26-10-22 11:57:32-INFO-90\t nR*(nR-1)\n",
      "26-10-22 11:57:32-INFO-Reduction of feasible pairs by 100.00%\n",
      "26-10-22 11:57:32-INFO-Degree 2 \tCompleted\n",
      "26-10-22 11:57:32-INFO-trips to extend at degree 2 : 1\n",
      "26-10-22 11:57:32-INFO-At degree 2 feasible extensions found out of 0 searched\n",
      "26-10-22 11:57:32-INFO-Degree 3 \tCompleted\n",
      "26-10-22 11:57:32-INFO-No more trips to exted at degree 3\n"
     ]
    }
   ],
   "source": [
    "inData = ExMAS.main(inData, params.shareability, plot=False) # create shareability graph (ExMAS) "
   ]
  },
  {
   "cell_type": "markdown",
   "id": "3e397a98-a373-462e-9c71-e3ec76f9a3af",
   "metadata": {},
   "source": [
    "## Analyze results"
   ]
  },
  {
   "cell_type": "code",
   "execution_count": 85,
   "id": "8351a08c-b977-4e81-8248-bf9fd96ae565",
   "metadata": {},
   "outputs": [
    {
     "data": {
      "text/plain": [
       "0        [0]\n",
       "1        [1]\n",
       "4        [4]\n",
       "5        [5]\n",
       "6        [6]\n",
       "7        [7]\n",
       "8        [8]\n",
       "9        [9]\n",
       "10    [2, 3]\n",
       "Name: indexes, dtype: object"
      ]
     },
     "execution_count": 85,
     "metadata": {},
     "output_type": "execute_result"
    }
   ],
   "source": [
    "inData.sblts.schedule.indexes"
   ]
  },
  {
   "cell_type": "code",
   "execution_count": 70,
   "id": "a810ea20-c6b4-4a69-ae4c-8c47bc026185",
   "metadata": {},
   "outputs": [],
   "source": [
    "Results = inData.sblts.rides"
   ]
  },
  {
   "cell_type": "code",
   "execution_count": 71,
   "id": "d0fd46d7-0562-46bc-853a-9a5f1ef113b2",
   "metadata": {},
   "outputs": [
    {
     "data": {
      "text/html": [
       "<div>\n",
       "<style scoped>\n",
       "    .dataframe tbody tr th:only-of-type {\n",
       "        vertical-align: middle;\n",
       "    }\n",
       "\n",
       "    .dataframe tbody tr th {\n",
       "        vertical-align: top;\n",
       "    }\n",
       "\n",
       "    .dataframe thead th {\n",
       "        text-align: right;\n",
       "    }\n",
       "</style>\n",
       "<table border=\"1\" class=\"dataframe\">\n",
       "  <thead>\n",
       "    <tr style=\"text-align: right;\">\n",
       "      <th></th>\n",
       "      <th>indexes</th>\n",
       "      <th>u_pax</th>\n",
       "      <th>u_veh</th>\n",
       "      <th>kind</th>\n",
       "      <th>u_paxes</th>\n",
       "      <th>times</th>\n",
       "      <th>indexes_orig</th>\n",
       "      <th>indexes_dest</th>\n",
       "      <th>degree</th>\n",
       "      <th>index</th>\n",
       "    </tr>\n",
       "  </thead>\n",
       "  <tbody>\n",
       "    <tr>\n",
       "      <th>0</th>\n",
       "      <td>[0]</td>\n",
       "      <td>6.54100</td>\n",
       "      <td>353</td>\n",
       "      <td>1</td>\n",
       "      <td>[6.541]</td>\n",
       "      <td>[0, 353]</td>\n",
       "      <td>[0]</td>\n",
       "      <td>[0]</td>\n",
       "      <td>1.0</td>\n",
       "      <td>0</td>\n",
       "    </tr>\n",
       "    <tr>\n",
       "      <th>1</th>\n",
       "      <td>[1]</td>\n",
       "      <td>2.17650</td>\n",
       "      <td>117</td>\n",
       "      <td>1</td>\n",
       "      <td>[2.1765]</td>\n",
       "      <td>[709, 117]</td>\n",
       "      <td>[1]</td>\n",
       "      <td>[1]</td>\n",
       "      <td>1.0</td>\n",
       "      <td>1</td>\n",
       "    </tr>\n",
       "    <tr>\n",
       "      <th>2</th>\n",
       "      <td>[2]</td>\n",
       "      <td>3.50250</td>\n",
       "      <td>189</td>\n",
       "      <td>1</td>\n",
       "      <td>[3.5025000000000004]</td>\n",
       "      <td>[1610, 189]</td>\n",
       "      <td>[2]</td>\n",
       "      <td>[2]</td>\n",
       "      <td>1.0</td>\n",
       "      <td>2</td>\n",
       "    </tr>\n",
       "    <tr>\n",
       "      <th>3</th>\n",
       "      <td>[3]</td>\n",
       "      <td>3.63500</td>\n",
       "      <td>196</td>\n",
       "      <td>1</td>\n",
       "      <td>[3.635]</td>\n",
       "      <td>[1795, 196]</td>\n",
       "      <td>[3]</td>\n",
       "      <td>[3]</td>\n",
       "      <td>1.0</td>\n",
       "      <td>3</td>\n",
       "    </tr>\n",
       "    <tr>\n",
       "      <th>4</th>\n",
       "      <td>[4]</td>\n",
       "      <td>0.76000</td>\n",
       "      <td>41</td>\n",
       "      <td>1</td>\n",
       "      <td>[0.76]</td>\n",
       "      <td>[3186, 41]</td>\n",
       "      <td>[4]</td>\n",
       "      <td>[4]</td>\n",
       "      <td>1.0</td>\n",
       "      <td>4</td>\n",
       "    </tr>\n",
       "    <tr>\n",
       "      <th>5</th>\n",
       "      <td>[5]</td>\n",
       "      <td>0.87400</td>\n",
       "      <td>47</td>\n",
       "      <td>1</td>\n",
       "      <td>[0.874]</td>\n",
       "      <td>[7944, 47]</td>\n",
       "      <td>[5]</td>\n",
       "      <td>[5]</td>\n",
       "      <td>1.0</td>\n",
       "      <td>5</td>\n",
       "    </tr>\n",
       "    <tr>\n",
       "      <th>6</th>\n",
       "      <td>[6]</td>\n",
       "      <td>1.03100</td>\n",
       "      <td>55</td>\n",
       "      <td>1</td>\n",
       "      <td>[1.0310000000000001]</td>\n",
       "      <td>[9576, 55]</td>\n",
       "      <td>[6]</td>\n",
       "      <td>[6]</td>\n",
       "      <td>1.0</td>\n",
       "      <td>6</td>\n",
       "    </tr>\n",
       "    <tr>\n",
       "      <th>7</th>\n",
       "      <td>[7]</td>\n",
       "      <td>1.68500</td>\n",
       "      <td>91</td>\n",
       "      <td>1</td>\n",
       "      <td>[1.685]</td>\n",
       "      <td>[10057, 91]</td>\n",
       "      <td>[7]</td>\n",
       "      <td>[7]</td>\n",
       "      <td>1.0</td>\n",
       "      <td>7</td>\n",
       "    </tr>\n",
       "    <tr>\n",
       "      <th>8</th>\n",
       "      <td>[8]</td>\n",
       "      <td>3.27750</td>\n",
       "      <td>177</td>\n",
       "      <td>1</td>\n",
       "      <td>[3.2775]</td>\n",
       "      <td>[11388, 177]</td>\n",
       "      <td>[8]</td>\n",
       "      <td>[8]</td>\n",
       "      <td>1.0</td>\n",
       "      <td>8</td>\n",
       "    </tr>\n",
       "    <tr>\n",
       "      <th>9</th>\n",
       "      <td>[9]</td>\n",
       "      <td>4.17600</td>\n",
       "      <td>225</td>\n",
       "      <td>1</td>\n",
       "      <td>[4.176]</td>\n",
       "      <td>[12747, 225]</td>\n",
       "      <td>[9]</td>\n",
       "      <td>[9]</td>\n",
       "      <td>1.0</td>\n",
       "      <td>9</td>\n",
       "    </tr>\n",
       "    <tr>\n",
       "      <th>10</th>\n",
       "      <td>[2, 3]</td>\n",
       "      <td>6.70565</td>\n",
       "      <td>364</td>\n",
       "      <td>20</td>\n",
       "      <td>[3.3696249999999996, 3.336025]</td>\n",
       "      <td>[1643.5, 118, 152, 94]</td>\n",
       "      <td>[2, 3]</td>\n",
       "      <td>[2, 3]</td>\n",
       "      <td>2.0</td>\n",
       "      <td>10</td>\n",
       "    </tr>\n",
       "  </tbody>\n",
       "</table>\n",
       "</div>"
      ],
      "text/plain": [
       "   indexes    u_pax u_veh kind                         u_paxes  \\\n",
       "0      [0]  6.54100   353    1                         [6.541]   \n",
       "1      [1]  2.17650   117    1                        [2.1765]   \n",
       "2      [2]  3.50250   189    1            [3.5025000000000004]   \n",
       "3      [3]  3.63500   196    1                         [3.635]   \n",
       "4      [4]  0.76000    41    1                          [0.76]   \n",
       "5      [5]  0.87400    47    1                         [0.874]   \n",
       "6      [6]  1.03100    55    1            [1.0310000000000001]   \n",
       "7      [7]  1.68500    91    1                         [1.685]   \n",
       "8      [8]  3.27750   177    1                        [3.2775]   \n",
       "9      [9]  4.17600   225    1                         [4.176]   \n",
       "10  [2, 3]  6.70565   364   20  [3.3696249999999996, 3.336025]   \n",
       "\n",
       "                     times indexes_orig indexes_dest  degree  index  \n",
       "0                 [0, 353]          [0]          [0]     1.0      0  \n",
       "1               [709, 117]          [1]          [1]     1.0      1  \n",
       "2              [1610, 189]          [2]          [2]     1.0      2  \n",
       "3              [1795, 196]          [3]          [3]     1.0      3  \n",
       "4               [3186, 41]          [4]          [4]     1.0      4  \n",
       "5               [7944, 47]          [5]          [5]     1.0      5  \n",
       "6               [9576, 55]          [6]          [6]     1.0      6  \n",
       "7              [10057, 91]          [7]          [7]     1.0      7  \n",
       "8             [11388, 177]          [8]          [8]     1.0      8  \n",
       "9             [12747, 225]          [9]          [9]     1.0      9  \n",
       "10  [1643.5, 118, 152, 94]       [2, 3]       [2, 3]     2.0     10  "
      ]
     },
     "execution_count": 71,
     "metadata": {},
     "output_type": "execute_result"
    }
   ],
   "source": [
    "Results"
   ]
  },
  {
   "cell_type": "code",
   "execution_count": 72,
   "id": "83a41e80-0fbd-4d49-9b45-1e6b0f71d6f2",
   "metadata": {},
   "outputs": [
    {
     "name": "stdout",
     "output_type": "stream",
     "text": [
      "26-10-22 11:57:51-INFO-Matching 10 trips to 11 rides in order to min u_pax\n",
      "26-10-22 11:57:51-INFO-Problem solution: Optimal. \n",
      "Total costs for single trips:             27 \n",
      "reduced by matching to:                   27\n",
      "26-10-22 11:57:52-WARNING-Setting up 4h simulation at 2022-10-26 10:07:39 for 2 vehicles and 10 passengers in Nootdrop, Netherlands\n",
      "26-10-22 11:57:52-WARNING-simulation time 0.1 s\n",
      "26-10-22 11:57:52-WARNING-assertion tests for simulation results - passed\n"
     ]
    }
   ],
   "source": [
    "sim = simulate(params = params, inData = inData, logger_level = logging.WARNING) # simulate"
   ]
  },
  {
   "cell_type": "code",
   "execution_count": 73,
   "id": "661f22be-50af-45f3-a650-c4ffeecb4f00",
   "metadata": {},
   "outputs": [
    {
     "data": {
      "text/html": [
       "<div>\n",
       "<style scoped>\n",
       "    .dataframe tbody tr th:only-of-type {\n",
       "        vertical-align: middle;\n",
       "    }\n",
       "\n",
       "    .dataframe tbody tr th {\n",
       "        vertical-align: top;\n",
       "    }\n",
       "\n",
       "    .dataframe thead th {\n",
       "        text-align: right;\n",
       "    }\n",
       "</style>\n",
       "<table border=\"1\" class=\"dataframe\">\n",
       "  <thead>\n",
       "    <tr style=\"text-align: right;\">\n",
       "      <th></th>\n",
       "      <th>veh</th>\n",
       "      <th>pos</th>\n",
       "      <th>t</th>\n",
       "      <th>event</th>\n",
       "      <th>paxes</th>\n",
       "    </tr>\n",
       "  </thead>\n",
       "  <tbody>\n",
       "    <tr>\n",
       "      <th>0</th>\n",
       "      <td>1</td>\n",
       "      <td>838048032.0</td>\n",
       "      <td>0</td>\n",
       "      <td>STARTS_DAY</td>\n",
       "      <td>[]</td>\n",
       "    </tr>\n",
       "    <tr>\n",
       "      <th>1</th>\n",
       "      <td>1</td>\n",
       "      <td>838048032.0</td>\n",
       "      <td>0</td>\n",
       "      <td>OPENS_APP</td>\n",
       "      <td>[]</td>\n",
       "    </tr>\n",
       "    <tr>\n",
       "      <th>2</th>\n",
       "      <td>1</td>\n",
       "      <td>838048032.0</td>\n",
       "      <td>0</td>\n",
       "      <td>RECEIVES_REQUEST</td>\n",
       "      <td>[]</td>\n",
       "    </tr>\n",
       "    <tr>\n",
       "      <th>3</th>\n",
       "      <td>1</td>\n",
       "      <td>838048032.0</td>\n",
       "      <td>15</td>\n",
       "      <td>ACCEPTS_REQUEST</td>\n",
       "      <td>[]</td>\n",
       "    </tr>\n",
       "    <tr>\n",
       "      <th>4</th>\n",
       "      <td>1</td>\n",
       "      <td>838048032.0</td>\n",
       "      <td>35</td>\n",
       "      <td>IS_ACCEPTED_BY_TRAVELLER</td>\n",
       "      <td>[]</td>\n",
       "    </tr>\n",
       "    <tr>\n",
       "      <th>...</th>\n",
       "      <td>...</td>\n",
       "      <td>...</td>\n",
       "      <td>...</td>\n",
       "      <td>...</td>\n",
       "      <td>...</td>\n",
       "    </tr>\n",
       "    <tr>\n",
       "      <th>58</th>\n",
       "      <td>2</td>\n",
       "      <td>44997882.0</td>\n",
       "      <td>12821</td>\n",
       "      <td>ARRIVES_AT_PICKUP</td>\n",
       "      <td>[]</td>\n",
       "    </tr>\n",
       "    <tr>\n",
       "      <th>59</th>\n",
       "      <td>2</td>\n",
       "      <td>44997882.0</td>\n",
       "      <td>12821</td>\n",
       "      <td>MEETS_TRAVELLER_AT_PICKUP</td>\n",
       "      <td>[]</td>\n",
       "    </tr>\n",
       "    <tr>\n",
       "      <th>60</th>\n",
       "      <td>2</td>\n",
       "      <td>44997882.0</td>\n",
       "      <td>12851</td>\n",
       "      <td>DEPARTS_FROM_PICKUP</td>\n",
       "      <td>[9]</td>\n",
       "    </tr>\n",
       "    <tr>\n",
       "      <th>61</th>\n",
       "      <td>2</td>\n",
       "      <td>45031258.0</td>\n",
       "      <td>13076</td>\n",
       "      <td>ARRIVES_AT_DROPOFF</td>\n",
       "      <td>[9]</td>\n",
       "    </tr>\n",
       "    <tr>\n",
       "      <th>62</th>\n",
       "      <td>2</td>\n",
       "      <td>45031258.0</td>\n",
       "      <td>21599</td>\n",
       "      <td>ENDS_SHIFT</td>\n",
       "      <td>[]</td>\n",
       "    </tr>\n",
       "  </tbody>\n",
       "</table>\n",
       "<p>73 rows × 5 columns</p>\n",
       "</div>"
      ],
      "text/plain": [
       "    veh          pos      t                      event paxes\n",
       "0     1  838048032.0      0                 STARTS_DAY    []\n",
       "1     1  838048032.0      0                  OPENS_APP    []\n",
       "2     1  838048032.0      0           RECEIVES_REQUEST    []\n",
       "3     1  838048032.0     15            ACCEPTS_REQUEST    []\n",
       "4     1  838048032.0     35   IS_ACCEPTED_BY_TRAVELLER    []\n",
       "..  ...          ...    ...                        ...   ...\n",
       "58    2   44997882.0  12821          ARRIVES_AT_PICKUP    []\n",
       "59    2   44997882.0  12821  MEETS_TRAVELLER_AT_PICKUP    []\n",
       "60    2   44997882.0  12851        DEPARTS_FROM_PICKUP   [9]\n",
       "61    2   45031258.0  13076         ARRIVES_AT_DROPOFF   [9]\n",
       "62    2   45031258.0  21599                 ENDS_SHIFT    []\n",
       "\n",
       "[73 rows x 5 columns]"
      ]
     },
     "execution_count": 73,
     "metadata": {},
     "output_type": "execute_result"
    }
   ],
   "source": [
    "sim.runs[0].rides"
   ]
  },
  {
   "cell_type": "code",
   "execution_count": 74,
   "id": "1f02eb65-b76f-404b-8cf5-0ec504cf52e6",
   "metadata": {},
   "outputs": [
    {
     "data": {
      "text/html": [
       "<div>\n",
       "<style scoped>\n",
       "    .dataframe tbody tr th:only-of-type {\n",
       "        vertical-align: middle;\n",
       "    }\n",
       "\n",
       "    .dataframe tbody tr th {\n",
       "        vertical-align: top;\n",
       "    }\n",
       "\n",
       "    .dataframe thead th {\n",
       "        text-align: right;\n",
       "    }\n",
       "</style>\n",
       "<table border=\"1\" class=\"dataframe\">\n",
       "  <thead>\n",
       "    <tr style=\"text-align: right;\">\n",
       "      <th></th>\n",
       "      <th>pax</th>\n",
       "      <th>pos</th>\n",
       "      <th>t</th>\n",
       "      <th>event</th>\n",
       "      <th>veh_id</th>\n",
       "    </tr>\n",
       "  </thead>\n",
       "  <tbody>\n",
       "    <tr>\n",
       "      <th>0</th>\n",
       "      <td>0</td>\n",
       "      <td>2014445729</td>\n",
       "      <td>0</td>\n",
       "      <td>STARTS_DAY</td>\n",
       "      <td>NaN</td>\n",
       "    </tr>\n",
       "    <tr>\n",
       "      <th>1</th>\n",
       "      <td>0</td>\n",
       "      <td>2014445729</td>\n",
       "      <td>0</td>\n",
       "      <td>REQUESTS_RIDE</td>\n",
       "      <td>NaN</td>\n",
       "    </tr>\n",
       "    <tr>\n",
       "      <th>2</th>\n",
       "      <td>0</td>\n",
       "      <td>2014445729</td>\n",
       "      <td>0</td>\n",
       "      <td>RECEIVES_OFFER</td>\n",
       "      <td>NaN</td>\n",
       "    </tr>\n",
       "    <tr>\n",
       "      <th>3</th>\n",
       "      <td>0</td>\n",
       "      <td>2014445729</td>\n",
       "      <td>15</td>\n",
       "      <td>ACCEPTS_OFFER</td>\n",
       "      <td>NaN</td>\n",
       "    </tr>\n",
       "    <tr>\n",
       "      <th>4</th>\n",
       "      <td>0</td>\n",
       "      <td>2014445729</td>\n",
       "      <td>35</td>\n",
       "      <td>ARRIVES_AT_PICKUP</td>\n",
       "      <td>1.0</td>\n",
       "    </tr>\n",
       "    <tr>\n",
       "      <th>...</th>\n",
       "      <td>...</td>\n",
       "      <td>...</td>\n",
       "      <td>...</td>\n",
       "      <td>...</td>\n",
       "      <td>...</td>\n",
       "    </tr>\n",
       "    <tr>\n",
       "      <th>5</th>\n",
       "      <td>9</td>\n",
       "      <td>44997882</td>\n",
       "      <td>12821</td>\n",
       "      <td>MEETS_DRIVER_AT_PICKUP</td>\n",
       "      <td>2.0</td>\n",
       "    </tr>\n",
       "    <tr>\n",
       "      <th>6</th>\n",
       "      <td>9</td>\n",
       "      <td>44997882</td>\n",
       "      <td>12851</td>\n",
       "      <td>DEPARTS_FROM_PICKUP</td>\n",
       "      <td>2.0</td>\n",
       "    </tr>\n",
       "    <tr>\n",
       "      <th>7</th>\n",
       "      <td>9</td>\n",
       "      <td>45031258</td>\n",
       "      <td>13076</td>\n",
       "      <td>ARRIVES_AT_DROPOFF</td>\n",
       "      <td>2.0</td>\n",
       "    </tr>\n",
       "    <tr>\n",
       "      <th>8</th>\n",
       "      <td>9</td>\n",
       "      <td>45031258</td>\n",
       "      <td>13086</td>\n",
       "      <td>SETS_OFF_FOR_DEST</td>\n",
       "      <td>NaN</td>\n",
       "    </tr>\n",
       "    <tr>\n",
       "      <th>9</th>\n",
       "      <td>9</td>\n",
       "      <td>45031258</td>\n",
       "      <td>13086</td>\n",
       "      <td>ARRIVES_AT_DEST</td>\n",
       "      <td>NaN</td>\n",
       "    </tr>\n",
       "  </tbody>\n",
       "</table>\n",
       "<p>99 rows × 5 columns</p>\n",
       "</div>"
      ],
      "text/plain": [
       "    pax         pos      t                   event  veh_id\n",
       "0     0  2014445729      0              STARTS_DAY     NaN\n",
       "1     0  2014445729      0           REQUESTS_RIDE     NaN\n",
       "2     0  2014445729      0          RECEIVES_OFFER     NaN\n",
       "3     0  2014445729     15           ACCEPTS_OFFER     NaN\n",
       "4     0  2014445729     35       ARRIVES_AT_PICKUP     1.0\n",
       "..  ...         ...    ...                     ...     ...\n",
       "5     9    44997882  12821  MEETS_DRIVER_AT_PICKUP     2.0\n",
       "6     9    44997882  12851     DEPARTS_FROM_PICKUP     2.0\n",
       "7     9    45031258  13076      ARRIVES_AT_DROPOFF     2.0\n",
       "8     9    45031258  13086       SETS_OFF_FOR_DEST     NaN\n",
       "9     9    45031258  13086         ARRIVES_AT_DEST     NaN\n",
       "\n",
       "[99 rows x 5 columns]"
      ]
     },
     "execution_count": 74,
     "metadata": {},
     "output_type": "execute_result"
    }
   ],
   "source": [
    "sim.runs[0].trips"
   ]
  },
  {
   "cell_type": "code",
   "execution_count": 75,
   "id": "88dd0bb3-851e-4fb3-bad1-083b21e780df",
   "metadata": {},
   "outputs": [
    {
     "data": {
      "text/plain": [
       "<AxesSubplot:>"
      ]
     },
     "execution_count": 75,
     "metadata": {},
     "output_type": "execute_result"
    },
    {
     "data": {
      "image/png": "[encoded data removed]",
      "text/plain": [
       "<Figure size 720x720 with 1 Axes>"
      ]
     },
     "metadata": {},
     "output_type": "display_data"
    }
   ],
   "source": [
    "df = sim.runs[0].rides\n",
    "\n",
    "for i in range(params.nV):\n",
    "    paxes = df[df.veh==i].paxes\n",
    "    if paxes.apply(lambda x: len(x)).max()>1:\n",
    "        break\n",
    "plot_veh(inData.G, df[df.veh ==2], lw = 1)"
   ]
  },
  {
   "cell_type": "code",
   "execution_count": 76,
   "id": "572b78df-6dd6-454f-bd95-0bd619ceb862",
   "metadata": {},
   "outputs": [
    {
     "data": {
      "text/html": [
       "<div>\n",
       "<style scoped>\n",
       "    .dataframe tbody tr th:only-of-type {\n",
       "        vertical-align: middle;\n",
       "    }\n",
       "\n",
       "    .dataframe tbody tr th {\n",
       "        vertical-align: top;\n",
       "    }\n",
       "\n",
       "    .dataframe thead th {\n",
       "        text-align: right;\n",
       "    }\n",
       "</style>\n",
       "<table border=\"1\" class=\"dataframe\">\n",
       "  <thead>\n",
       "    <tr style=\"text-align: right;\">\n",
       "      <th></th>\n",
       "      <th>pax_id</th>\n",
       "      <th>origin</th>\n",
       "      <th>destination</th>\n",
       "      <th>treq</th>\n",
       "      <th>tdep</th>\n",
       "      <th>ttrav</th>\n",
       "      <th>tarr</th>\n",
       "      <th>tdrop</th>\n",
       "      <th>shareable</th>\n",
       "      <th>schedule_id</th>\n",
       "      <th>dist</th>\n",
       "      <th>platform</th>\n",
       "      <th>ride_id</th>\n",
       "      <th>position</th>\n",
       "      <th>sim_schedule</th>\n",
       "    </tr>\n",
       "    <tr>\n",
       "      <th>id</th>\n",
       "      <th></th>\n",
       "      <th></th>\n",
       "      <th></th>\n",
       "      <th></th>\n",
       "      <th></th>\n",
       "      <th></th>\n",
       "      <th></th>\n",
       "      <th></th>\n",
       "      <th></th>\n",
       "      <th></th>\n",
       "      <th></th>\n",
       "      <th></th>\n",
       "      <th></th>\n",
       "      <th></th>\n",
       "      <th></th>\n",
       "    </tr>\n",
       "  </thead>\n",
       "  <tbody>\n",
       "    <tr>\n",
       "      <th>1</th>\n",
       "      <td>0</td>\n",
       "      <td>2014445729</td>\n",
       "      <td>2273226090</td>\n",
       "      <td>2022-10-26 10:07:39</td>\n",
       "      <td>NaN</td>\n",
       "      <td>0 days 00:58:57</td>\n",
       "      <td>2022-10-26 11:06:36</td>\n",
       "      <td>NaN</td>\n",
       "      <td>True</td>\n",
       "      <td>NaN</td>\n",
       "      <td>3537</td>\n",
       "      <td>0</td>\n",
       "      <td>0</td>\n",
       "      <td>0</td>\n",
       "      <td>node time  req_id    od\n",
       "0          ...</td>\n",
       "    </tr>\n",
       "    <tr>\n",
       "      <th>2</th>\n",
       "      <td>1</td>\n",
       "      <td>519520441</td>\n",
       "      <td>5040974840</td>\n",
       "      <td>2022-10-26 10:19:28</td>\n",
       "      <td>NaN</td>\n",
       "      <td>0 days 00:19:38</td>\n",
       "      <td>2022-10-26 10:39:06</td>\n",
       "      <td>NaN</td>\n",
       "      <td>True</td>\n",
       "      <td>NaN</td>\n",
       "      <td>1178</td>\n",
       "      <td>0</td>\n",
       "      <td>1</td>\n",
       "      <td>0</td>\n",
       "      <td>node time  req_id    od\n",
       "0          ...</td>\n",
       "    </tr>\n",
       "    <tr>\n",
       "      <th>3</th>\n",
       "      <td>2</td>\n",
       "      <td>5257342095</td>\n",
       "      <td>45024107</td>\n",
       "      <td>2022-10-26 10:34:29</td>\n",
       "      <td>NaN</td>\n",
       "      <td>0 days 00:31:34</td>\n",
       "      <td>2022-10-26 11:06:03</td>\n",
       "      <td>NaN</td>\n",
       "      <td>True</td>\n",
       "      <td>NaN</td>\n",
       "      <td>1894</td>\n",
       "      <td>0</td>\n",
       "      <td>10</td>\n",
       "      <td>0</td>\n",
       "      <td>node time  req_id    od\n",
       "0          ...</td>\n",
       "    </tr>\n",
       "    <tr>\n",
       "      <th>4</th>\n",
       "      <td>4</td>\n",
       "      <td>44994287</td>\n",
       "      <td>500965113</td>\n",
       "      <td>2022-10-26 11:00:45</td>\n",
       "      <td>NaN</td>\n",
       "      <td>0 days 00:06:51</td>\n",
       "      <td>2022-10-26 11:07:36</td>\n",
       "      <td>NaN</td>\n",
       "      <td>True</td>\n",
       "      <td>NaN</td>\n",
       "      <td>411</td>\n",
       "      <td>0</td>\n",
       "      <td>4</td>\n",
       "      <td>0</td>\n",
       "      <td>node time  req_id    od\n",
       "0          N...</td>\n",
       "    </tr>\n",
       "    <tr>\n",
       "      <th>5</th>\n",
       "      <td>5</td>\n",
       "      <td>44974254</td>\n",
       "      <td>44989725</td>\n",
       "      <td>2022-10-26 12:20:03</td>\n",
       "      <td>NaN</td>\n",
       "      <td>0 days 00:07:53</td>\n",
       "      <td>2022-10-26 12:27:56</td>\n",
       "      <td>NaN</td>\n",
       "      <td>True</td>\n",
       "      <td>NaN</td>\n",
       "      <td>473</td>\n",
       "      <td>0</td>\n",
       "      <td>5</td>\n",
       "      <td>0</td>\n",
       "      <td>node time  req_id    od\n",
       "0         NaN...</td>\n",
       "    </tr>\n",
       "    <tr>\n",
       "      <th>6</th>\n",
       "      <td>6</td>\n",
       "      <td>515765264</td>\n",
       "      <td>44988793</td>\n",
       "      <td>2022-10-26 12:47:15</td>\n",
       "      <td>NaN</td>\n",
       "      <td>0 days 00:09:19</td>\n",
       "      <td>2022-10-26 12:56:34</td>\n",
       "      <td>NaN</td>\n",
       "      <td>True</td>\n",
       "      <td>NaN</td>\n",
       "      <td>559</td>\n",
       "      <td>0</td>\n",
       "      <td>6</td>\n",
       "      <td>0</td>\n",
       "      <td>node time  req_id    od\n",
       "0          N...</td>\n",
       "    </tr>\n",
       "    <tr>\n",
       "      <th>7</th>\n",
       "      <td>7</td>\n",
       "      <td>44996094</td>\n",
       "      <td>1402824226</td>\n",
       "      <td>2022-10-26 12:55:16</td>\n",
       "      <td>NaN</td>\n",
       "      <td>0 days 00:15:11</td>\n",
       "      <td>2022-10-26 13:10:27</td>\n",
       "      <td>NaN</td>\n",
       "      <td>True</td>\n",
       "      <td>NaN</td>\n",
       "      <td>911</td>\n",
       "      <td>0</td>\n",
       "      <td>7</td>\n",
       "      <td>0</td>\n",
       "      <td>node time  req_id    od\n",
       "0          ...</td>\n",
       "    </tr>\n",
       "    <tr>\n",
       "      <th>8</th>\n",
       "      <td>8</td>\n",
       "      <td>1619407431</td>\n",
       "      <td>45001243</td>\n",
       "      <td>2022-10-26 13:17:27</td>\n",
       "      <td>NaN</td>\n",
       "      <td>0 days 00:29:32</td>\n",
       "      <td>2022-10-26 13:46:59</td>\n",
       "      <td>NaN</td>\n",
       "      <td>True</td>\n",
       "      <td>NaN</td>\n",
       "      <td>1772</td>\n",
       "      <td>0</td>\n",
       "      <td>8</td>\n",
       "      <td>0</td>\n",
       "      <td>node time  req_id    od\n",
       "0          ...</td>\n",
       "    </tr>\n",
       "    <tr>\n",
       "      <th>9</th>\n",
       "      <td>9</td>\n",
       "      <td>44997882</td>\n",
       "      <td>45031258</td>\n",
       "      <td>2022-10-26 13:40:06</td>\n",
       "      <td>NaN</td>\n",
       "      <td>0 days 00:37:39</td>\n",
       "      <td>2022-10-26 14:17:45</td>\n",
       "      <td>NaN</td>\n",
       "      <td>True</td>\n",
       "      <td>NaN</td>\n",
       "      <td>2259</td>\n",
       "      <td>0</td>\n",
       "      <td>9</td>\n",
       "      <td>0</td>\n",
       "      <td>node time  req_id    od\n",
       "0         NaN...</td>\n",
       "    </tr>\n",
       "  </tbody>\n",
       "</table>\n",
       "</div>"
      ],
      "text/plain": [
       "   pax_id      origin destination                treq tdep           ttrav  \\\n",
       "id                                                                           \n",
       "1       0  2014445729  2273226090 2022-10-26 10:07:39  NaN 0 days 00:58:57   \n",
       "2       1   519520441  5040974840 2022-10-26 10:19:28  NaN 0 days 00:19:38   \n",
       "3       2  5257342095    45024107 2022-10-26 10:34:29  NaN 0 days 00:31:34   \n",
       "4       4    44994287   500965113 2022-10-26 11:00:45  NaN 0 days 00:06:51   \n",
       "5       5    44974254    44989725 2022-10-26 12:20:03  NaN 0 days 00:07:53   \n",
       "6       6   515765264    44988793 2022-10-26 12:47:15  NaN 0 days 00:09:19   \n",
       "7       7    44996094  1402824226 2022-10-26 12:55:16  NaN 0 days 00:15:11   \n",
       "8       8  1619407431    45001243 2022-10-26 13:17:27  NaN 0 days 00:29:32   \n",
       "9       9    44997882    45031258 2022-10-26 13:40:06  NaN 0 days 00:37:39   \n",
       "\n",
       "                  tarr tdrop shareable schedule_id  dist platform ride_id  \\\n",
       "id                                                                          \n",
       "1  2022-10-26 11:06:36   NaN      True         NaN  3537        0       0   \n",
       "2  2022-10-26 10:39:06   NaN      True         NaN  1178        0       1   \n",
       "3  2022-10-26 11:06:03   NaN      True         NaN  1894        0      10   \n",
       "4  2022-10-26 11:07:36   NaN      True         NaN   411        0       4   \n",
       "5  2022-10-26 12:27:56   NaN      True         NaN   473        0       5   \n",
       "6  2022-10-26 12:56:34   NaN      True         NaN   559        0       6   \n",
       "7  2022-10-26 13:10:27   NaN      True         NaN   911        0       7   \n",
       "8  2022-10-26 13:46:59   NaN      True         NaN  1772        0       8   \n",
       "9  2022-10-26 14:17:45   NaN      True         NaN  2259        0       9   \n",
       "\n",
       "   position                                       sim_schedule  \n",
       "id                                                              \n",
       "1         0             node time  req_id    od\n",
       "0          ...  \n",
       "2         0             node time  req_id    od\n",
       "0          ...  \n",
       "3         0             node time  req_id    od\n",
       "0          ...  \n",
       "4         0            node time  req_id    od\n",
       "0          N...  \n",
       "5         0           node time  req_id    od\n",
       "0         NaN...  \n",
       "6         0            node time  req_id    od\n",
       "0          N...  \n",
       "7         0             node time  req_id    od\n",
       "0          ...  \n",
       "8         0             node time  req_id    od\n",
       "0          ...  \n",
       "9         0           node time  req_id    od\n",
       "0         NaN...  "
      ]
     },
     "execution_count": 76,
     "metadata": {},
     "output_type": "execute_result"
    }
   ],
   "source": [
    "sim.requests"
   ]
  },
  {
   "cell_type": "markdown",
   "id": "3265108c-ffee-489d-ac24-2e6cc446487b",
   "metadata": {},
   "source": [
    "## TrevelAgent"
   ]
  },
  {
   "cell_type": "code",
   "execution_count": 77,
   "id": "53328874-c878-427f-8512-1858b336f128",
   "metadata": {},
   "outputs": [],
   "source": [
    "self = sim.pax[0]"
   ]
  },
  {
   "cell_type": "code",
   "execution_count": 78,
   "id": "1b8087d3-26ec-47e1-9bf7-3c65c3104dec",
   "metadata": {},
   "outputs": [
    {
     "data": {
      "image/png": "[encoded data removed]",
      "text/plain": [
       "<Figure size 432x288 with 1 Axes>"
      ]
     },
     "metadata": {
      "needs_background": "light"
     },
     "output_type": "display_data"
    },
    {
     "data": {
      "image/png": "[encoded data removed]",
      "text/plain": [
       "<Figure size 576x576 with 1 Axes>"
      ]
     },
     "metadata": {},
     "output_type": "display_data"
    },
    {
     "data": {
      "text/plain": [
       "<AxesSubplot:xlabel='t'>"
      ]
     },
     "execution_count": 78,
     "metadata": {},
     "output_type": "execute_result"
    }
   ],
   "source": [
    "from MaaSSim.visualizations import plot_trip\n",
    "plot_trip(sim, self.id)"
   ]
  },
  {
   "cell_type": "markdown",
   "id": "3245471a-f90f-4bc9-abcc-dd6c7cf7126d",
   "metadata": {},
   "source": [
    "## VehicleAgent"
   ]
  },
  {
   "cell_type": "code",
   "execution_count": 82,
   "id": "8f84fd76-ad10-4991-b561-b55ebc7cb991",
   "metadata": {},
   "outputs": [],
   "source": [
    "self = sim.vehs[2]"
   ]
  },
  {
   "cell_type": "code",
   "execution_count": 83,
   "id": "9ed445a5-9ccd-44ed-af1b-746fcf233b33",
   "metadata": {},
   "outputs": [
    {
     "data": {
      "text/plain": [
       "<AxesSubplot:>"
      ]
     },
     "execution_count": 83,
     "metadata": {},
     "output_type": "execute_result"
    },
    {
     "data": {
      "image/png": "[encoded data removed]",
      "text/plain": [
       "<Figure size 720x720 with 1 Axes>"
      ]
     },
     "metadata": {},
     "output_type": "display_data"
    }
   ],
   "source": [
    "from MaaSSim.visualizations import plot_veh_sim\n",
    "plot_veh_sim(sim, self.id)"
   ]
  },
  {
   "cell_type": "code",
   "execution_count": null,
   "id": "02249805-54d4-4053-bb4a-3b2e75f87c6f",
   "metadata": {},
   "outputs": [],
   "source": []
  }
 ],
 "metadata": {
  "kernelspec": {
   "display_name": "Python 3 (ipykernel)",
   "language": "python",
   "name": "python3"
  },
  "language_info": {
   "codemirror_mode": {
    "name": "ipython",
    "version": 3
   },
   "file_extension": ".py",
   "mimetype": "text/x-python",
   "name": "python",
   "nbconvert_exporter": "python",
   "pygments_lexer": "ipython3",
   "version": "3.10.5"
  }
 },
 "nbformat": 4,
 "nbformat_minor": 5
}
